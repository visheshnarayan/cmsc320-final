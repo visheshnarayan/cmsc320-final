{
 "cells": [
  {
   "cell_type": "markdown",
   "id": "2bf5d4a1",
   "metadata": {},
   "source": [
    "vishesh and shivam \n",
    "\n",
    "defeat."
   ]
  },
  {
   "cell_type": "code",
   "execution_count": null,
   "id": "417269ca",
   "metadata": {},
   "outputs": [],
   "source": [
    "import torch\n",
    "import torch.nn as nn\n",
    "\n",
    "class AudioAttention(nn.Module):\n",
    "    def __init__(self, input_dim, hidden_dim):\n",
    "        super(AudioAttention, self).__init__()\n",
    "        self.attention = nn.Linear(hidden_dim, 1, bias=False)\n",
    "        self.softmax = nn.Softmax(dim=1)\n",
    "\n",
    "    def forward(self, encoder_outputs):\n",
    "        # Compute attention scores\n",
    "        attention_scores = self.attention(encoder_outputs)\n",
    "        attention_weights = self.softmax(attention_scores)\n",
    "        \n",
    "        # Apply attention weights\n",
    "        context_vector = torch.sum(attention_weights * encoder_outputs, dim=1)\n",
    "        return context_vector, attention_weights\n",
    "\n",
    "class AudioClassifier(nn.Module):\n",
    "    def __init__(self, input_dim, hidden_dim, num_classes):\n",
    "        super(AudioClassifier, self).__init__()\n",
    "        self.cnn = nn.Conv1d(in_channels=1, out_channels=16, kernel_size=3, stride=1, padding=1)\n",
    "        self.rnn = nn.LSTM(input_dim, hidden_dim, batch_first=True, bidirectional=True)\n",
    "        self.attention = AudioAttention(input_dim, hidden_dim * 2)\n",
    "        self.fc = nn.Linear(hidden_dim * 2, num_classes)\n",
    "\n",
    "    def forward(self, x):\n",
    "        # Feature extraction with CNN\n",
    "        x = self.cnn(x)\n",
    "        x = torch.relu(x)\n",
    "        x = x.permute(0, 2, 1)  # Prepare for RNN (batch, seq_len, feature_dim)\n",
    "\n",
    "        # Sequence modeling with RNN\n",
    "        rnn_outputs, _ = self.rnn(x)\n",
    "\n",
    "        # Apply attention\n",
    "        context_vector, attention_weights = self.attention(rnn_outputs)\n",
    "\n",
    "        # Classification\n",
    "        logits = self.fc(context_vector)\n",
    "        return logits, attention_weights"
   ]
  }
 ],
 "metadata": {
  "language_info": {
   "name": "python"
  }
 },
 "nbformat": 4,
 "nbformat_minor": 5
}
