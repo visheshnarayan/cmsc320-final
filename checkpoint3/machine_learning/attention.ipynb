{
 "cells": [
  {
   "cell_type": "markdown",
   "id": "2bf5d4a1",
   "metadata": {},
   "source": [
    "vishesh and shivam \n",
    "\n",
    "defeat."
   ]
  },
  {
   "cell_type": "markdown",
   "id": "cfb48e06",
   "metadata": {},
   "source": []
  }
 ],
 "metadata": {
  "language_info": {
   "name": "python"
  }
 },
 "nbformat": 4,
 "nbformat_minor": 5
}
