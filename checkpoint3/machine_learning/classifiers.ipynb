{
 "cells": [
  {
   "cell_type": "markdown",
   "id": "7c09b41d",
   "metadata": {},
   "source": [
    "### Assigned to __Deval and Eshan__\n",
    "\n",
    "#### Main goal: \n",
    "1. Use features to create some form of input vector appropriate to model used \n",
    "2. try to do: \n",
    "    - clustering over a projection (look at checkpoint 2 and how i used pca/umap/t-sne)\n",
    "    - SVMs on singular features (an array of only floats, don't input another array inside all your inputs as another feature); also see if you need to kernel trick or something \n",
    "    - ensemble method: have binary classifier for this label or not this label and trickle down\n",
    "        - YES or (NO or (HAPPY or ...)) kinda like if else in ocaml \n",
    "3. give me the dihta on confusion matrix and precision recall f1"
   ]
  },
  {
   "cell_type": "markdown",
   "id": "5c711e6b",
   "metadata": {},
   "source": []
  }
 ],
 "metadata": {
  "language_info": {
   "name": "python"
  }
 },
 "nbformat": 4,
 "nbformat_minor": 5
}
