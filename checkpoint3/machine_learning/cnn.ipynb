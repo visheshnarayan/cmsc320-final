{
 "cells": [
  {
   "cell_type": "markdown",
   "id": "a9b67fc1",
   "metadata": {},
   "source": [
    "### Assigned to __Eric__\n",
    "\n",
    "#### Main goal: \n",
    "1. Get spectogram images for each audio\n",
    "2. crop so they are all same size and remove white area that isn't really data\n",
    "3. try:\n",
    "    - different configs of pooling and fully connected NNs to see what worked best (increasing complexity should be best)\n",
    "    - OR pretrained/preconfigured configs like AlexNet, VGG11/16, etc\n",
    "4. create confusion matrix and output precision recall f1"
   ]
  },
  {
   "cell_type": "markdown",
   "id": "890516a4",
   "metadata": {},
   "source": []
  }
 ],
 "metadata": {
  "language_info": {
   "name": "python"
  }
 },
 "nbformat": 4,
 "nbformat_minor": 5
}
