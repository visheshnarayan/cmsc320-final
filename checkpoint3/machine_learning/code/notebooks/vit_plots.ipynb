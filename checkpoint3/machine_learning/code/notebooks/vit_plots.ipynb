{
 "cells": [
  {
   "cell_type": "code",
   "execution_count": 1,
   "id": "20a2a8e4",
   "metadata": {},
   "outputs": [],
   "source": [
    "import plotly.graph_objects as go"
   ]
  },
  {
   "cell_type": "code",
   "execution_count": 2,
   "id": "5794d6aa",
   "metadata": {},
   "outputs": [
    {
     "name": "stdout",
     "output_type": "stream",
     "text": [
      "Loaded keys: dict_keys(['epoch', 'train_loss', 'train_acc', 'val_acc', 'lr'])\n"
     ]
    }
   ],
   "source": [
    "import json\n",
    "\n",
    "import json\n",
    "from pathlib import Path\n",
    "\n",
    "# Construct relative path from the notebook\n",
    "history_path = Path(\"../../results/training/train_history.json\")\n",
    "\n",
    "# Load the training history\n",
    "with open(history_path, \"r\") as f:\n",
    "    history = json.load(f)\n",
    "\n",
    "# Confirm keys\n",
    "print(\"Loaded keys:\", history.keys())"
   ]
  },
  {
   "cell_type": "code",
   "execution_count": null,
   "id": "d21a8b81",
   "metadata": {},
   "outputs": [
    {
     "data": {
      "application/vnd.plotly.v1+json": {
       "config": {
        "plotlyServerURL": "https://plot.ly"
       },
       "data": [
        {
         "line": {
          "color": "crimson"
         },
         "name": "Train Loss",
         "type": "scatter",
         "x": [
          1,
          2,
          3,
          4,
          5,
          6,
          7,
          8,
          9,
          10,
          11,
          12,
          13,
          14,
          15,
          16,
          17,
          18,
          19,
          20,
          21,
          22,
          23,
          24,
          25,
          26,
          27,
          28,
          29,
          30,
          31,
          32,
          33,
          34,
          35,
          36,
          37,
          38,
          39,
          40,
          41,
          42,
          43,
          44,
          45,
          46,
          47,
          48,
          49,
          50,
          51,
          52,
          53,
          54,
          55,
          56,
          57,
          58,
          59,
          60,
          61,
          62,
          63,
          64,
          65,
          66,
          67,
          68,
          69,
          70,
          71,
          72,
          73,
          74,
          75,
          76,
          77,
          78,
          79,
          80
         ],
         "y": [
          1.992777282319558,
          1.2234884798497463,
          1.0380815493365783,
          0.9484909126323906,
          0.9155070437172436,
          0.8935694625565828,
          0.8749414113760408,
          0.8375954962486016,
          0.8255433809105939,
          0.8179656237344655,
          0.8460808171330381,
          0.8297389096878449,
          0.7927642631371143,
          0.7650552649367336,
          0.7874356213854837,
          0.7648083527517558,
          0.7430847307571266,
          0.7186546198832555,
          0.7022453868229451,
          0.7279478737967376,
          0.7233543338371139,
          0.7022275073223117,
          0.6816775533489767,
          0.6969850504683406,
          0.6797739297241804,
          0.6798282961072954,
          0.6931424975650925,
          0.6503997718704831,
          0.677860591613518,
          0.626719774322568,
          0.6328245408783993,
          0.6338245918247448,
          0.6152825595497005,
          0.6013342371876396,
          0.6147813829662894,
          0.582717315613095,
          0.5984305625232194,
          0.5868621979307603,
          0.5944834049580102,
          0.5768671252913683,
          0.5413179615666657,
          0.539413607827198,
          0.5530350573813761,
          0.5361272251231964,
          0.5179400601573865,
          0.5181085342650021,
          0.5092040340527805,
          0.5237984226332406,
          0.48085008070460217,
          0.4797104914934347,
          0.488746906235631,
          0.4662245099984486,
          0.4727505982203353,
          0.4710133666982367,
          0.43228023034891944,
          0.4511429667104821,
          0.43256538977790737,
          0.41771736618181343,
          0.41352069695676263,
          0.3885903725665085,
          0.3776854341236368,
          0.3821905537223101,
          0.38142886629295975,
          0.3809068698041528,
          0.3907255530448362,
          0.3677452712595969,
          0.34959461660999586,
          0.3419512391004921,
          0.3392975656478526,
          0.316975762293645,
          0.3076352709296982,
          0.31812696675794594,
          0.28554690314082304,
          0.3255940267104937,
          0.3094658603839993,
          0.32640927104386847,
          0.27705835220606817,
          0.3180481309983653,
          0.27334447068581275,
          0.2727406610702602
         ],
         "yaxis": "y"
        },
        {
         "line": {
          "color": "blue",
          "dash": "dash"
         },
         "name": "Train Accuracy",
         "type": "scatter",
         "x": [
          1,
          2,
          3,
          4,
          5,
          6,
          7,
          8,
          9,
          10,
          11,
          12,
          13,
          14,
          15,
          16,
          17,
          18,
          19,
          20,
          21,
          22,
          23,
          24,
          25,
          26,
          27,
          28,
          29,
          30,
          31,
          32,
          33,
          34,
          35,
          36,
          37,
          38,
          39,
          40,
          41,
          42,
          43,
          44,
          45,
          46,
          47,
          48,
          49,
          50,
          51,
          52,
          53,
          54,
          55,
          56,
          57,
          58,
          59,
          60,
          61,
          62,
          63,
          64,
          65,
          66,
          67,
          68,
          69,
          70,
          71,
          72,
          73,
          74,
          75,
          76,
          77,
          78,
          79,
          80
         ],
         "y": [
          0.3295644479402222,
          0.5254153967161538,
          0.5754596401533772,
          0.6010225149936093,
          0.6131157211680267,
          0.616851833644676,
          0.6274702585783108,
          0.6325828335463572,
          0.6381870022613312,
          0.6431029397306066,
          0.6375970897650182,
          0.641038245993511,
          0.6469373709566414,
          0.6620784583620096,
          0.6498869334382067,
          0.6619801396126241,
          0.6649297020941893,
          0.6736800707894995,
          0.6808573394946417,
          0.6701405958116213,
          0.6805623832464851,
          0.6809556582440272,
          0.691574083177662,
          0.67957919575263,
          0.6828237144823518,
          0.6905908956838069,
          0.6840035394749778,
          0.7006194081211287,
          0.6882312456985548,
          0.7055353455904041,
          0.7076000393274997,
          0.7011110018680562,
          0.7059286205879461,
          0.7147773080326418,
          0.7122210205486186,
          0.7274604267033723,
          0.7214629829908563,
          0.7194966080031462,
          0.7157604955264969,
          0.7265755579589027,
          0.7374889391406941,
          0.7407334578704159,
          0.7391603578802478,
          0.7396519516271753,
          0.748697276570642,
          0.7485989578212565,
          0.753514895290532,
          0.7455510765903057,
          0.7592173827548914,
          0.7658047389637204,
          0.7567594140202537,
          0.768262707698358,
          0.7648215514698653,
          0.7700324451872972,
          0.7810441451184741,
          0.7761282076491987,
          0.780060957624619,
          0.7909743388064104,
          0.7898928325631698,
          0.8008062137449612,
          0.804640644970996,
          0.8030675449808279,
          0.8063120637105496,
          0.8083767574476453,
          0.7978566512633959,
          0.8074918887031757,
          0.817815357388654,
          0.8201750073739063,
          0.8272539573296628,
          0.8353160947792744,
          0.8407236259954773,
          0.8374791072657556,
          0.8506538196834136,
          0.8328581260446367,
          0.8402320322485498,
          0.8361026447743585,
          0.85576639465146,
          0.8341362697866483,
          0.8500639071871006,
          0.8582243633860978
         ],
         "yaxis": "y2"
        },
        {
         "line": {
          "color": "green",
          "dash": "dot"
         },
         "name": "Validation Accuracy",
         "type": "scatter",
         "x": [
          1,
          2,
          3,
          4,
          5,
          6,
          7,
          8,
          9,
          10,
          11,
          12,
          13,
          14,
          15,
          16,
          17,
          18,
          19,
          20,
          21,
          22,
          23,
          24,
          25,
          26,
          27,
          28,
          29,
          30,
          31,
          32,
          33,
          34,
          35,
          36,
          37,
          38,
          39,
          40,
          41,
          42,
          43,
          44,
          45,
          46,
          47,
          48,
          49,
          50,
          51,
          52,
          53,
          54,
          55,
          56,
          57,
          58,
          59,
          60,
          61,
          62,
          63,
          64,
          65,
          66,
          67,
          68,
          69,
          70,
          71,
          72,
          73,
          74,
          75,
          76,
          77,
          78,
          79,
          80
         ],
         "y": [
          0.5437026841018582,
          0.5326909841706814,
          0.5911906400550585,
          0.5946317962835512,
          0.6125258086717137,
          0.6104611149346181,
          0.6214728148657949,
          0.6132140399174123,
          0.635237439779766,
          0.6269786648313833,
          0.6317962835512733,
          0.5794907088781831,
          0.6655196145905025,
          0.6256022023399862,
          0.64762560220234,
          0.6462491397109429,
          0.6373021335168617,
          0.6407432897453544,
          0.6813489332415692,
          0.6703372333103923,
          0.6490020646937371,
          0.653819683413627,
          0.6586373021335169,
          0.6496902959394356,
          0.6379903647625602,
          0.6407432897453544,
          0.6249139710942877,
          0.6792842395044735,
          0.6868547832071576,
          0.6889194769442533,
          0.6916724019270475,
          0.6524432209222298,
          0.6827253957329663,
          0.6847900894700619,
          0.6834136269786648,
          0.6841018582243634,
          0.673778389538885,
          0.692360633172746,
          0.6847900894700619,
          0.692360633172746,
          0.7033723331039229,
          0.690984170681349,
          0.6875430144528561,
          0.692360633172746,
          0.7192016517549896,
          0.7081899518238128,
          0.7130075705437027,
          0.6971782518926359,
          0.6847900894700619,
          0.7136958017894013,
          0.6896077081899519,
          0.6655196145905025,
          0.7026841018582244,
          0.70956641431521,
          0.6978664831383344,
          0.7143840330350998,
          0.7309015829318651,
          0.7136958017894013,
          0.7157604955264969,
          0.7054370268410186,
          0.6964900206469373,
          0.7192016517549896,
          0.6916724019270475,
          0.7109428768066071,
          0.692360633172746,
          0.7198898830006882,
          0.6889194769442533,
          0.7068134893324157,
          0.723331039229181,
          0.7026841018582244,
          0.7109428768066071,
          0.6992429456297315,
          0.7075017205781142,
          0.698554714384033,
          0.6620784583620096,
          0.7033723331039229,
          0.6944253269098417,
          0.70956641431521,
          0.7136958017894013,
          0.7013076393668273
         ],
         "yaxis": "y2"
        }
       ],
       "layout": {
        "annotations": [
         {
          "showarrow": false,
          "text": "Divergence Point",
          "x": 28,
          "xanchor": "right",
          "xref": "x",
          "y": 1,
          "yanchor": "top",
          "yref": "y domain"
         }
        ],
        "legend": {
         "x": 0.01,
         "y": 0.99
        },
        "shapes": [
         {
          "line": {
           "color": "gray",
           "dash": "dash",
           "width": 2
          },
          "type": "line",
          "x0": 28,
          "x1": 28,
          "xref": "x",
          "y0": 0,
          "y1": 1,
          "yref": "y domain"
         }
        ],
        "template": {
         "data": {
          "bar": [
           {
            "error_x": {
             "color": "#2a3f5f"
            },
            "error_y": {
             "color": "#2a3f5f"
            },
            "marker": {
             "line": {
              "color": "white",
              "width": 0.5
             },
             "pattern": {
              "fillmode": "overlay",
              "size": 10,
              "solidity": 0.2
             }
            },
            "type": "bar"
           }
          ],
          "barpolar": [
           {
            "marker": {
             "line": {
              "color": "white",
              "width": 0.5
             },
             "pattern": {
              "fillmode": "overlay",
              "size": 10,
              "solidity": 0.2
             }
            },
            "type": "barpolar"
           }
          ],
          "carpet": [
           {
            "aaxis": {
             "endlinecolor": "#2a3f5f",
             "gridcolor": "#C8D4E3",
             "linecolor": "#C8D4E3",
             "minorgridcolor": "#C8D4E3",
             "startlinecolor": "#2a3f5f"
            },
            "baxis": {
             "endlinecolor": "#2a3f5f",
             "gridcolor": "#C8D4E3",
             "linecolor": "#C8D4E3",
             "minorgridcolor": "#C8D4E3",
             "startlinecolor": "#2a3f5f"
            },
            "type": "carpet"
           }
          ],
          "choropleth": [
           {
            "colorbar": {
             "outlinewidth": 0,
             "ticks": ""
            },
            "type": "choropleth"
           }
          ],
          "contour": [
           {
            "colorbar": {
             "outlinewidth": 0,
             "ticks": ""
            },
            "colorscale": [
             [
              0,
              "#0d0887"
             ],
             [
              0.1111111111111111,
              "#46039f"
             ],
             [
              0.2222222222222222,
              "#7201a8"
             ],
             [
              0.3333333333333333,
              "#9c179e"
             ],
             [
              0.4444444444444444,
              "#bd3786"
             ],
             [
              0.5555555555555556,
              "#d8576b"
             ],
             [
              0.6666666666666666,
              "#ed7953"
             ],
             [
              0.7777777777777778,
              "#fb9f3a"
             ],
             [
              0.8888888888888888,
              "#fdca26"
             ],
             [
              1,
              "#f0f921"
             ]
            ],
            "type": "contour"
           }
          ],
          "contourcarpet": [
           {
            "colorbar": {
             "outlinewidth": 0,
             "ticks": ""
            },
            "type": "contourcarpet"
           }
          ],
          "heatmap": [
           {
            "colorbar": {
             "outlinewidth": 0,
             "ticks": ""
            },
            "colorscale": [
             [
              0,
              "#0d0887"
             ],
             [
              0.1111111111111111,
              "#46039f"
             ],
             [
              0.2222222222222222,
              "#7201a8"
             ],
             [
              0.3333333333333333,
              "#9c179e"
             ],
             [
              0.4444444444444444,
              "#bd3786"
             ],
             [
              0.5555555555555556,
              "#d8576b"
             ],
             [
              0.6666666666666666,
              "#ed7953"
             ],
             [
              0.7777777777777778,
              "#fb9f3a"
             ],
             [
              0.8888888888888888,
              "#fdca26"
             ],
             [
              1,
              "#f0f921"
             ]
            ],
            "type": "heatmap"
           }
          ],
          "histogram": [
           {
            "marker": {
             "pattern": {
              "fillmode": "overlay",
              "size": 10,
              "solidity": 0.2
             }
            },
            "type": "histogram"
           }
          ],
          "histogram2d": [
           {
            "colorbar": {
             "outlinewidth": 0,
             "ticks": ""
            },
            "colorscale": [
             [
              0,
              "#0d0887"
             ],
             [
              0.1111111111111111,
              "#46039f"
             ],
             [
              0.2222222222222222,
              "#7201a8"
             ],
             [
              0.3333333333333333,
              "#9c179e"
             ],
             [
              0.4444444444444444,
              "#bd3786"
             ],
             [
              0.5555555555555556,
              "#d8576b"
             ],
             [
              0.6666666666666666,
              "#ed7953"
             ],
             [
              0.7777777777777778,
              "#fb9f3a"
             ],
             [
              0.8888888888888888,
              "#fdca26"
             ],
             [
              1,
              "#f0f921"
             ]
            ],
            "type": "histogram2d"
           }
          ],
          "histogram2dcontour": [
           {
            "colorbar": {
             "outlinewidth": 0,
             "ticks": ""
            },
            "colorscale": [
             [
              0,
              "#0d0887"
             ],
             [
              0.1111111111111111,
              "#46039f"
             ],
             [
              0.2222222222222222,
              "#7201a8"
             ],
             [
              0.3333333333333333,
              "#9c179e"
             ],
             [
              0.4444444444444444,
              "#bd3786"
             ],
             [
              0.5555555555555556,
              "#d8576b"
             ],
             [
              0.6666666666666666,
              "#ed7953"
             ],
             [
              0.7777777777777778,
              "#fb9f3a"
             ],
             [
              0.8888888888888888,
              "#fdca26"
             ],
             [
              1,
              "#f0f921"
             ]
            ],
            "type": "histogram2dcontour"
           }
          ],
          "mesh3d": [
           {
            "colorbar": {
             "outlinewidth": 0,
             "ticks": ""
            },
            "type": "mesh3d"
           }
          ],
          "parcoords": [
           {
            "line": {
             "colorbar": {
              "outlinewidth": 0,
              "ticks": ""
             }
            },
            "type": "parcoords"
           }
          ],
          "pie": [
           {
            "automargin": true,
            "type": "pie"
           }
          ],
          "scatter": [
           {
            "fillpattern": {
             "fillmode": "overlay",
             "size": 10,
             "solidity": 0.2
            },
            "type": "scatter"
           }
          ],
          "scatter3d": [
           {
            "line": {
             "colorbar": {
              "outlinewidth": 0,
              "ticks": ""
             }
            },
            "marker": {
             "colorbar": {
              "outlinewidth": 0,
              "ticks": ""
             }
            },
            "type": "scatter3d"
           }
          ],
          "scattercarpet": [
           {
            "marker": {
             "colorbar": {
              "outlinewidth": 0,
              "ticks": ""
             }
            },
            "type": "scattercarpet"
           }
          ],
          "scattergeo": [
           {
            "marker": {
             "colorbar": {
              "outlinewidth": 0,
              "ticks": ""
             }
            },
            "type": "scattergeo"
           }
          ],
          "scattergl": [
           {
            "marker": {
             "colorbar": {
              "outlinewidth": 0,
              "ticks": ""
             }
            },
            "type": "scattergl"
           }
          ],
          "scattermap": [
           {
            "marker": {
             "colorbar": {
              "outlinewidth": 0,
              "ticks": ""
             }
            },
            "type": "scattermap"
           }
          ],
          "scattermapbox": [
           {
            "marker": {
             "colorbar": {
              "outlinewidth": 0,
              "ticks": ""
             }
            },
            "type": "scattermapbox"
           }
          ],
          "scatterpolar": [
           {
            "marker": {
             "colorbar": {
              "outlinewidth": 0,
              "ticks": ""
             }
            },
            "type": "scatterpolar"
           }
          ],
          "scatterpolargl": [
           {
            "marker": {
             "colorbar": {
              "outlinewidth": 0,
              "ticks": ""
             }
            },
            "type": "scatterpolargl"
           }
          ],
          "scatterternary": [
           {
            "marker": {
             "colorbar": {
              "outlinewidth": 0,
              "ticks": ""
             }
            },
            "type": "scatterternary"
           }
          ],
          "surface": [
           {
            "colorbar": {
             "outlinewidth": 0,
             "ticks": ""
            },
            "colorscale": [
             [
              0,
              "#0d0887"
             ],
             [
              0.1111111111111111,
              "#46039f"
             ],
             [
              0.2222222222222222,
              "#7201a8"
             ],
             [
              0.3333333333333333,
              "#9c179e"
             ],
             [
              0.4444444444444444,
              "#bd3786"
             ],
             [
              0.5555555555555556,
              "#d8576b"
             ],
             [
              0.6666666666666666,
              "#ed7953"
             ],
             [
              0.7777777777777778,
              "#fb9f3a"
             ],
             [
              0.8888888888888888,
              "#fdca26"
             ],
             [
              1,
              "#f0f921"
             ]
            ],
            "type": "surface"
           }
          ],
          "table": [
           {
            "cells": {
             "fill": {
              "color": "#EBF0F8"
             },
             "line": {
              "color": "white"
             }
            },
            "header": {
             "fill": {
              "color": "#C8D4E3"
             },
             "line": {
              "color": "white"
             }
            },
            "type": "table"
           }
          ]
         },
         "layout": {
          "annotationdefaults": {
           "arrowcolor": "#2a3f5f",
           "arrowhead": 0,
           "arrowwidth": 1
          },
          "autotypenumbers": "strict",
          "coloraxis": {
           "colorbar": {
            "outlinewidth": 0,
            "ticks": ""
           }
          },
          "colorscale": {
           "diverging": [
            [
             0,
             "#8e0152"
            ],
            [
             0.1,
             "#c51b7d"
            ],
            [
             0.2,
             "#de77ae"
            ],
            [
             0.3,
             "#f1b6da"
            ],
            [
             0.4,
             "#fde0ef"
            ],
            [
             0.5,
             "#f7f7f7"
            ],
            [
             0.6,
             "#e6f5d0"
            ],
            [
             0.7,
             "#b8e186"
            ],
            [
             0.8,
             "#7fbc41"
            ],
            [
             0.9,
             "#4d9221"
            ],
            [
             1,
             "#276419"
            ]
           ],
           "sequential": [
            [
             0,
             "#0d0887"
            ],
            [
             0.1111111111111111,
             "#46039f"
            ],
            [
             0.2222222222222222,
             "#7201a8"
            ],
            [
             0.3333333333333333,
             "#9c179e"
            ],
            [
             0.4444444444444444,
             "#bd3786"
            ],
            [
             0.5555555555555556,
             "#d8576b"
            ],
            [
             0.6666666666666666,
             "#ed7953"
            ],
            [
             0.7777777777777778,
             "#fb9f3a"
            ],
            [
             0.8888888888888888,
             "#fdca26"
            ],
            [
             1,
             "#f0f921"
            ]
           ],
           "sequentialminus": [
            [
             0,
             "#0d0887"
            ],
            [
             0.1111111111111111,
             "#46039f"
            ],
            [
             0.2222222222222222,
             "#7201a8"
            ],
            [
             0.3333333333333333,
             "#9c179e"
            ],
            [
             0.4444444444444444,
             "#bd3786"
            ],
            [
             0.5555555555555556,
             "#d8576b"
            ],
            [
             0.6666666666666666,
             "#ed7953"
            ],
            [
             0.7777777777777778,
             "#fb9f3a"
            ],
            [
             0.8888888888888888,
             "#fdca26"
            ],
            [
             1,
             "#f0f921"
            ]
           ]
          },
          "colorway": [
           "#636efa",
           "#EF553B",
           "#00cc96",
           "#ab63fa",
           "#FFA15A",
           "#19d3f3",
           "#FF6692",
           "#B6E880",
           "#FF97FF",
           "#FECB52"
          ],
          "font": {
           "color": "#2a3f5f"
          },
          "geo": {
           "bgcolor": "white",
           "lakecolor": "white",
           "landcolor": "white",
           "showlakes": true,
           "showland": true,
           "subunitcolor": "#C8D4E3"
          },
          "hoverlabel": {
           "align": "left"
          },
          "hovermode": "closest",
          "mapbox": {
           "style": "light"
          },
          "paper_bgcolor": "white",
          "plot_bgcolor": "white",
          "polar": {
           "angularaxis": {
            "gridcolor": "#EBF0F8",
            "linecolor": "#EBF0F8",
            "ticks": ""
           },
           "bgcolor": "white",
           "radialaxis": {
            "gridcolor": "#EBF0F8",
            "linecolor": "#EBF0F8",
            "ticks": ""
           }
          },
          "scene": {
           "xaxis": {
            "backgroundcolor": "white",
            "gridcolor": "#DFE8F3",
            "gridwidth": 2,
            "linecolor": "#EBF0F8",
            "showbackground": true,
            "ticks": "",
            "zerolinecolor": "#EBF0F8"
           },
           "yaxis": {
            "backgroundcolor": "white",
            "gridcolor": "#DFE8F3",
            "gridwidth": 2,
            "linecolor": "#EBF0F8",
            "showbackground": true,
            "ticks": "",
            "zerolinecolor": "#EBF0F8"
           },
           "zaxis": {
            "backgroundcolor": "white",
            "gridcolor": "#DFE8F3",
            "gridwidth": 2,
            "linecolor": "#EBF0F8",
            "showbackground": true,
            "ticks": "",
            "zerolinecolor": "#EBF0F8"
           }
          },
          "shapedefaults": {
           "line": {
            "color": "#2a3f5f"
           }
          },
          "ternary": {
           "aaxis": {
            "gridcolor": "#DFE8F3",
            "linecolor": "#A2B1C6",
            "ticks": ""
           },
           "baxis": {
            "gridcolor": "#DFE8F3",
            "linecolor": "#A2B1C6",
            "ticks": ""
           },
           "bgcolor": "white",
           "caxis": {
            "gridcolor": "#DFE8F3",
            "linecolor": "#A2B1C6",
            "ticks": ""
           }
          },
          "title": {
           "x": 0.05
          },
          "xaxis": {
           "automargin": true,
           "gridcolor": "#EBF0F8",
           "linecolor": "#EBF0F8",
           "ticks": "",
           "title": {
            "standoff": 15
           },
           "zerolinecolor": "#EBF0F8",
           "zerolinewidth": 2
          },
          "yaxis": {
           "automargin": true,
           "gridcolor": "#EBF0F8",
           "linecolor": "#EBF0F8",
           "ticks": "",
           "title": {
            "standoff": 15
           },
           "zerolinecolor": "#EBF0F8",
           "zerolinewidth": 2
          }
         }
        },
        "title": {
         "text": "Training Loss and Accuracy over Epochs"
        },
        "xaxis": {
         "title": {
          "text": "Epoch"
         }
        },
        "yaxis": {
         "tickfont": {
          "color": "crimson"
         },
         "title": {
          "font": {
           "color": "crimson"
          },
          "text": "Train Loss"
         }
        },
        "yaxis2": {
         "anchor": "x",
         "overlaying": "y",
         "side": "right",
         "tickfont": {
          "color": "blue"
         },
         "title": {
          "font": {
           "color": "blue"
          },
          "text": "Accuracy"
         }
        }
       }
      }
     },
     "metadata": {},
     "output_type": "display_data"
    }
   ],
   "source": [
    "fig = go.Figure()\n",
    "\n",
    "# Training Loss (y1)\n",
    "fig.add_trace(go.Scatter(\n",
    "    x=history[\"epoch\"],\n",
    "    y=history[\"train_loss\"],\n",
    "    name='Train Loss',\n",
    "    line=dict(color='crimson'),\n",
    "    yaxis='y1'\n",
    "))\n",
    "\n",
    "# Training Accuracy (y2)\n",
    "fig.add_trace(go.Scatter(\n",
    "    x=history[\"epoch\"],\n",
    "    y=history[\"train_acc\"],\n",
    "    name='Train Accuracy',\n",
    "    line=dict(color='blue', dash='dash'),\n",
    "    yaxis='y2'\n",
    "))\n",
    "\n",
    "# Validation Accuracy (y2)\n",
    "fig.add_trace(go.Scatter(\n",
    "    x=history[\"epoch\"],\n",
    "    y=history[\"val_acc\"],\n",
    "    name='Validation Accuracy',\n",
    "    line=dict(color='green', dash='dot'),\n",
    "    yaxis='y2'\n",
    "))\n",
    "\n",
    "# Add vertical line at ideal early stopping point\n",
    "fig.add_vline(\n",
    "    x=28,\n",
    "    line=dict(color=\"gray\", width=2, dash=\"dash\"),\n",
    "    annotation_text=\"Divergence Point\", \n",
    "    annotation_position=\"top left\"\n",
    ")\n",
    "\n",
    "# Layout\n",
    "fig.update_layout(\n",
    "    title='Training Loss and Accuracy over Epochs',\n",
    "    xaxis=dict(title='Epoch'),\n",
    "    yaxis=dict(\n",
    "        title=dict(text='Train Loss', font=dict(color='crimson')),\n",
    "        tickfont=dict(color='crimson')\n",
    "    ),\n",
    "    yaxis2=dict(\n",
    "        title=dict(text='Accuracy', font=dict(color='blue')),\n",
    "        tickfont=dict(color='blue'),\n",
    "        anchor='x',\n",
    "        overlaying='y',\n",
    "        side='right'\n",
    "    ),\n",
    "    legend=dict(x=0.01, y=0.99),\n",
    "    template='plotly_white'\n",
    ")\n",
    "\n",
    "fig.show()"
   ]
  },
  {
   "cell_type": "code",
   "execution_count": 9,
   "id": "ba3749c2",
   "metadata": {},
   "outputs": [],
   "source": [
    "import os \n",
    "\n",
    "output_dir = \"../../../website/clarity/images\"\n",
    "os.makedirs(output_dir, exist_ok=True)\n",
    "\n",
    "# Save the figure\n",
    "fig.write_html(os.path.join(output_dir, \"vit_training_metrics.html\"))"
   ]
  },
  {
   "cell_type": "code",
   "execution_count": 13,
   "id": "c236600c",
   "metadata": {},
   "outputs": [
    {
     "data": {
      "text/plain": [
       "[{'precision': 0.71875,\n",
       "  'recall': 0.92,\n",
       "  'f1-score': 0.8070175439,\n",
       "  'support': 100.0},\n",
       " {'precision': 0.8818181818,\n",
       "  'recall': 0.97,\n",
       "  'f1-score': 0.9238095238,\n",
       "  'support': 100.0},\n",
       " {'precision': 0.4210526316,\n",
       "  'recall': 0.3450980392,\n",
       "  'f1-score': 0.3793103448,\n",
       "  'support': 255.0},\n",
       " {'precision': 0.593220339,\n",
       "  'recall': 0.4964539007,\n",
       "  'f1-score': 0.5405405405,\n",
       "  'support': 141.0},\n",
       " {'precision': 0.8918918919,\n",
       "  'recall': 0.99,\n",
       "  'f1-score': 0.9383886256,\n",
       "  'support': 100.0},\n",
       " {'precision': 0.9255319149,\n",
       "  'recall': 0.87,\n",
       "  'f1-score': 0.8969072165,\n",
       "  'support': 100.0},\n",
       " {'precision': 0.5429553265,\n",
       "  'recall': 0.5146579805,\n",
       "  'f1-score': 0.5284280936,\n",
       "  'support': 307.0},\n",
       " {'precision': 0.99, 'recall': 0.99, 'f1-score': 0.99, 'support': 100.0},\n",
       " {'precision': 0.9433962264,\n",
       "  'recall': 1.0,\n",
       "  'f1-score': 0.9708737864,\n",
       "  'support': 100.0},\n",
       " {'precision': 0.7863247863,\n",
       "  'recall': 0.92,\n",
       "  'f1-score': 0.8479262673,\n",
       "  'support': 100.0},\n",
       " {'precision': 0.8666666667,\n",
       "  'recall': 0.91,\n",
       "  'f1-score': 0.887804878,\n",
       "  'support': 100.0},\n",
       " {'precision': 1.0, 'recall': 1.0, 'f1-score': 1.0, 'support': 100.0},\n",
       " {'precision': 0.9896907216,\n",
       "  'recall': 0.96,\n",
       "  'f1-score': 0.9746192893,\n",
       "  'support': 100.0},\n",
       " {'precision': 0.6818181818,\n",
       "  'recall': 0.75,\n",
       "  'f1-score': 0.7142857143,\n",
       "  'support': 100.0},\n",
       " {'precision': 0.875,\n",
       "  'recall': 0.98,\n",
       "  'f1-score': 0.9245283019,\n",
       "  'support': 100.0},\n",
       " {'precision': 0.9,\n",
       "  'recall': 0.99,\n",
       "  'f1-score': 0.9428571429,\n",
       "  'support': 100.0},\n",
       " {'precision': 0.8288288288,\n",
       "  'recall': 0.92,\n",
       "  'f1-score': 0.8720379147,\n",
       "  'support': 100.0},\n",
       " {'precision': 0.277027027,\n",
       "  'recall': 0.41,\n",
       "  'f1-score': 0.3306451613,\n",
       "  'support': 100.0},\n",
       " {'precision': 0.5517241379,\n",
       "  'recall': 0.424403183,\n",
       "  'f1-score': 0.4797601199,\n",
       "  'support': 377.0},\n",
       " {'precision': 0.3979591837,\n",
       "  'recall': 0.3070866142,\n",
       "  'f1-score': 0.3466666667,\n",
       "  'support': 127.0},\n",
       " {'precision': 0.9705882353,\n",
       "  'recall': 0.99,\n",
       "  'f1-score': 0.9801980198,\n",
       "  'support': 100.0},\n",
       " {'precision': 0.6, 'recall': 0.84, 'f1-score': 0.7, 'support': 100.0},\n",
       " {'precision': 0.7072583419,\n",
       "  'recall': 0.7072583419,\n",
       "  'f1-score': 0.7072583419,\n",
       "  'support': 0.7072583419},\n",
       " {'precision': 0.7561020128,\n",
       "  'recall': 0.7953499872,\n",
       "  'f1-score': 0.7716638705,\n",
       "  'support': 2907.0},\n",
       " {'precision': 0.697961423,\n",
       "  'recall': 0.7072583419,\n",
       "  'f1-score': 0.6984017714,\n",
       "  'support': 2907.0}]"
      ]
     },
     "execution_count": 13,
     "metadata": {},
     "output_type": "execute_result"
    }
   ],
   "source": [
    "report_path = Path(\"../../results/reports/vit_classification_report_exp3.json\")\n",
    "with open(report_path, \"r\") as f:\n",
    "    report = json.load(f)\n",
    "\n",
    "report"
   ]
  },
  {
   "cell_type": "code",
   "execution_count": 17,
   "id": "0d81b726",
   "metadata": {},
   "outputs": [
    {
     "data": {
      "text/html": [
       "<div>\n",
       "<style scoped>\n",
       "    .dataframe tbody tr th:only-of-type {\n",
       "        vertical-align: middle;\n",
       "    }\n",
       "\n",
       "    .dataframe tbody tr th {\n",
       "        vertical-align: top;\n",
       "    }\n",
       "\n",
       "    .dataframe thead th {\n",
       "        text-align: right;\n",
       "    }\n",
       "</style>\n",
       "<table border=\"1\" class=\"dataframe\">\n",
       "  <thead>\n",
       "    <tr style=\"text-align: right;\">\n",
       "      <th></th>\n",
       "      <th>class</th>\n",
       "      <th>precision</th>\n",
       "      <th>recall</th>\n",
       "      <th>f1-score</th>\n",
       "      <th>support</th>\n",
       "    </tr>\n",
       "  </thead>\n",
       "  <tbody>\n",
       "    <tr>\n",
       "      <th>0</th>\n",
       "      <td>affectionate</td>\n",
       "      <td>0.718750</td>\n",
       "      <td>0.920000</td>\n",
       "      <td>0.807018</td>\n",
       "      <td>100.0</td>\n",
       "    </tr>\n",
       "    <tr>\n",
       "      <th>1</th>\n",
       "      <td>bathroom</td>\n",
       "      <td>0.881818</td>\n",
       "      <td>0.970000</td>\n",
       "      <td>0.923810</td>\n",
       "      <td>100.0</td>\n",
       "    </tr>\n",
       "    <tr>\n",
       "      <th>2</th>\n",
       "      <td>delighted</td>\n",
       "      <td>0.421053</td>\n",
       "      <td>0.345098</td>\n",
       "      <td>0.379310</td>\n",
       "      <td>255.0</td>\n",
       "    </tr>\n",
       "    <tr>\n",
       "      <th>3</th>\n",
       "      <td>dysregulated</td>\n",
       "      <td>0.593220</td>\n",
       "      <td>0.496454</td>\n",
       "      <td>0.540541</td>\n",
       "      <td>141.0</td>\n",
       "    </tr>\n",
       "    <tr>\n",
       "      <th>4</th>\n",
       "      <td>dysregulation-bathroom</td>\n",
       "      <td>0.891892</td>\n",
       "      <td>0.990000</td>\n",
       "      <td>0.938389</td>\n",
       "      <td>100.0</td>\n",
       "    </tr>\n",
       "    <tr>\n",
       "      <th>5</th>\n",
       "      <td>dysregulation-sick</td>\n",
       "      <td>0.925532</td>\n",
       "      <td>0.870000</td>\n",
       "      <td>0.896907</td>\n",
       "      <td>100.0</td>\n",
       "    </tr>\n",
       "    <tr>\n",
       "      <th>6</th>\n",
       "      <td>frustrated</td>\n",
       "      <td>0.542955</td>\n",
       "      <td>0.514658</td>\n",
       "      <td>0.528428</td>\n",
       "      <td>307.0</td>\n",
       "    </tr>\n",
       "    <tr>\n",
       "      <th>7</th>\n",
       "      <td>glee</td>\n",
       "      <td>0.990000</td>\n",
       "      <td>0.990000</td>\n",
       "      <td>0.990000</td>\n",
       "      <td>100.0</td>\n",
       "    </tr>\n",
       "    <tr>\n",
       "      <th>8</th>\n",
       "      <td>greeting</td>\n",
       "      <td>0.943396</td>\n",
       "      <td>1.000000</td>\n",
       "      <td>0.970874</td>\n",
       "      <td>100.0</td>\n",
       "    </tr>\n",
       "    <tr>\n",
       "      <th>9</th>\n",
       "      <td>happy</td>\n",
       "      <td>0.786325</td>\n",
       "      <td>0.920000</td>\n",
       "      <td>0.847926</td>\n",
       "      <td>100.0</td>\n",
       "    </tr>\n",
       "    <tr>\n",
       "      <th>10</th>\n",
       "      <td>help</td>\n",
       "      <td>0.866667</td>\n",
       "      <td>0.910000</td>\n",
       "      <td>0.887805</td>\n",
       "      <td>100.0</td>\n",
       "    </tr>\n",
       "    <tr>\n",
       "      <th>11</th>\n",
       "      <td>hunger</td>\n",
       "      <td>1.000000</td>\n",
       "      <td>1.000000</td>\n",
       "      <td>1.000000</td>\n",
       "      <td>100.0</td>\n",
       "    </tr>\n",
       "    <tr>\n",
       "      <th>12</th>\n",
       "      <td>laugh</td>\n",
       "      <td>0.989691</td>\n",
       "      <td>0.960000</td>\n",
       "      <td>0.974619</td>\n",
       "      <td>100.0</td>\n",
       "    </tr>\n",
       "    <tr>\n",
       "      <th>13</th>\n",
       "      <td>laughter</td>\n",
       "      <td>0.681818</td>\n",
       "      <td>0.750000</td>\n",
       "      <td>0.714286</td>\n",
       "      <td>100.0</td>\n",
       "    </tr>\n",
       "    <tr>\n",
       "      <th>14</th>\n",
       "      <td>more</td>\n",
       "      <td>0.875000</td>\n",
       "      <td>0.980000</td>\n",
       "      <td>0.924528</td>\n",
       "      <td>100.0</td>\n",
       "    </tr>\n",
       "    <tr>\n",
       "      <th>15</th>\n",
       "      <td>no</td>\n",
       "      <td>0.900000</td>\n",
       "      <td>0.990000</td>\n",
       "      <td>0.942857</td>\n",
       "      <td>100.0</td>\n",
       "    </tr>\n",
       "    <tr>\n",
       "      <th>16</th>\n",
       "      <td>protest</td>\n",
       "      <td>0.828829</td>\n",
       "      <td>0.920000</td>\n",
       "      <td>0.872038</td>\n",
       "      <td>100.0</td>\n",
       "    </tr>\n",
       "    <tr>\n",
       "      <th>17</th>\n",
       "      <td>request</td>\n",
       "      <td>0.277027</td>\n",
       "      <td>0.410000</td>\n",
       "      <td>0.330645</td>\n",
       "      <td>100.0</td>\n",
       "    </tr>\n",
       "    <tr>\n",
       "      <th>18</th>\n",
       "      <td>selftalk</td>\n",
       "      <td>0.551724</td>\n",
       "      <td>0.424403</td>\n",
       "      <td>0.479760</td>\n",
       "      <td>377.0</td>\n",
       "    </tr>\n",
       "    <tr>\n",
       "      <th>19</th>\n",
       "      <td>social</td>\n",
       "      <td>0.397959</td>\n",
       "      <td>0.307087</td>\n",
       "      <td>0.346667</td>\n",
       "      <td>127.0</td>\n",
       "    </tr>\n",
       "    <tr>\n",
       "      <th>20</th>\n",
       "      <td>tablet</td>\n",
       "      <td>0.970588</td>\n",
       "      <td>0.990000</td>\n",
       "      <td>0.980198</td>\n",
       "      <td>100.0</td>\n",
       "    </tr>\n",
       "    <tr>\n",
       "      <th>21</th>\n",
       "      <td>yes</td>\n",
       "      <td>0.600000</td>\n",
       "      <td>0.840000</td>\n",
       "      <td>0.700000</td>\n",
       "      <td>100.0</td>\n",
       "    </tr>\n",
       "  </tbody>\n",
       "</table>\n",
       "</div>"
      ],
      "text/plain": [
       "                     class  precision    recall  f1-score  support\n",
       "0             affectionate   0.718750  0.920000  0.807018    100.0\n",
       "1                 bathroom   0.881818  0.970000  0.923810    100.0\n",
       "2                delighted   0.421053  0.345098  0.379310    255.0\n",
       "3             dysregulated   0.593220  0.496454  0.540541    141.0\n",
       "4   dysregulation-bathroom   0.891892  0.990000  0.938389    100.0\n",
       "5       dysregulation-sick   0.925532  0.870000  0.896907    100.0\n",
       "6               frustrated   0.542955  0.514658  0.528428    307.0\n",
       "7                     glee   0.990000  0.990000  0.990000    100.0\n",
       "8                 greeting   0.943396  1.000000  0.970874    100.0\n",
       "9                    happy   0.786325  0.920000  0.847926    100.0\n",
       "10                    help   0.866667  0.910000  0.887805    100.0\n",
       "11                  hunger   1.000000  1.000000  1.000000    100.0\n",
       "12                   laugh   0.989691  0.960000  0.974619    100.0\n",
       "13                laughter   0.681818  0.750000  0.714286    100.0\n",
       "14                    more   0.875000  0.980000  0.924528    100.0\n",
       "15                      no   0.900000  0.990000  0.942857    100.0\n",
       "16                 protest   0.828829  0.920000  0.872038    100.0\n",
       "17                 request   0.277027  0.410000  0.330645    100.0\n",
       "18                selftalk   0.551724  0.424403  0.479760    377.0\n",
       "19                  social   0.397959  0.307087  0.346667    127.0\n",
       "20                  tablet   0.970588  0.990000  0.980198    100.0\n",
       "21                     yes   0.600000  0.840000  0.700000    100.0"
      ]
     },
     "execution_count": 17,
     "metadata": {},
     "output_type": "execute_result"
    }
   ],
   "source": [
    "import pandas as pd\n",
    "\n",
    "words = [\n",
    "    \"affectionate\", \"bathroom\", \"delighted\", \"dysregulated\", \"dysregulation-bathroom\",\n",
    "    \"dysregulation-sick\", \"frustrated\", \"glee\", \"greeting\", \"happy\", \"help\", \"hunger\",\n",
    "    \"laugh\", \"laughter\", \"more\", \"no\", \"protest\", \"request\", \"selftalk\", \"social\",\n",
    "    \"tablet\", \"yes\"\n",
    "]\n",
    "\n",
    "zipped = list(zip(words[:len(report)], report))\n",
    "df = pd.DataFrame([\n",
    "    {'class': label, **metrics} for label, metrics in zipped\n",
    "])\n",
    "\n",
    "df\n"
   ]
  },
  {
   "cell_type": "code",
   "execution_count": 18,
   "id": "b07801ca",
   "metadata": {},
   "outputs": [
    {
     "name": "stdout",
     "output_type": "stream",
     "text": [
      "                     class  precision    recall  f1-score  support\n",
      "0             affectionate   0.718750  0.920000  0.807018    100.0\n",
      "1                 bathroom   0.881818  0.970000  0.923810    100.0\n",
      "2                delighted   0.421053  0.345098  0.379310    255.0\n",
      "3             dysregulated   0.593220  0.496454  0.540541    141.0\n",
      "4   dysregulation-bathroom   0.891892  0.990000  0.938389    100.0\n",
      "5       dysregulation-sick   0.925532  0.870000  0.896907    100.0\n",
      "6               frustrated   0.542955  0.514658  0.528428    307.0\n",
      "7                     glee   0.990000  0.990000  0.990000    100.0\n",
      "8                 greeting   0.943396  1.000000  0.970874    100.0\n",
      "9                    happy   0.786325  0.920000  0.847926    100.0\n",
      "10                    help   0.866667  0.910000  0.887805    100.0\n",
      "11                  hunger   1.000000  1.000000  1.000000    100.0\n",
      "12                   laugh   0.989691  0.960000  0.974619    100.0\n",
      "13                laughter   0.681818  0.750000  0.714286    100.0\n",
      "14                    more   0.875000  0.980000  0.924528    100.0\n",
      "15                      no   0.900000  0.990000  0.942857    100.0\n",
      "16                 protest   0.828829  0.920000  0.872038    100.0\n",
      "17                 request   0.277027  0.410000  0.330645    100.0\n",
      "18                selftalk   0.551724  0.424403  0.479760    377.0\n",
      "19                  social   0.397959  0.307087  0.346667    127.0\n",
      "20                  tablet   0.970588  0.990000  0.980198    100.0\n",
      "21                     yes   0.600000  0.840000  0.700000    100.0\n"
     ]
    }
   ],
   "source": [
    "print(df)"
   ]
  },
  {
   "cell_type": "code",
   "execution_count": null,
   "id": "7f111516",
   "metadata": {},
   "outputs": [],
   "source": [
    "from sklearn.metrics import classification_report, confusion_matrix, accuracy_score\n",
    "import pandas as pd\n",
    "import numpy as np\n",
    "import torch\n",
    "import seaborn as sns\n",
    "import matplotlib.pyplot as plt\n",
    "\n",
    "def evaluate_test_set(\n",
    "    model, test_loader, label_encoder=None,\n",
    "    device=\"cuda\" if torch.cuda.is_available() else \"cpu\",\n",
    "    path=\"classification_report.csv\"\n",
    "):\n",
    "    model.eval()\n",
    "    model.to(device)\n",
    "\n",
    "    all_preds = []\n",
    "    all_targets = []\n",
    "\n",
    "    with torch.no_grad():\n",
    "        for inputs, labels in test_loader:\n",
    "            inputs, labels = inputs.to(device), labels.to(device)\n",
    "            outputs = model(inputs)\n",
    "            preds = torch.argmax(outputs, dim=1)\n",
    "            all_preds.extend(preds.cpu().numpy())\n",
    "            all_targets.extend(labels.cpu().numpy())\n",
    "\n",
    "    # Decode labels if encoder is provided\n",
    "    if label_encoder:\n",
    "        all_preds = label_encoder.inverse_transform(all_preds)\n",
    "        all_targets = label_encoder.inverse_transform(all_targets)\n",
    "\n",
    "    # Accuracy\n",
    "    acc = accuracy_score(all_targets, all_preds)\n",
    "    print(f\"✅ Test Accuracy: {acc:.4f}\")\n",
    "\n",
    "    # Generate and format classification report\n",
    "    report_dict = classification_report(all_targets, all_preds, output_dict=True)\n",
    "    report_df = pd.DataFrame(report_dict).transpose()  # Proper format: class names as index\n",
    "    report_df.index.name = \"Class\"\n",
    "    print(\"\\n🔍 Classification Report:\")\n",
    "    print(report_df.round(3))\n",
    "\n",
    "    # Plot confusion matrix\n",
    "    cm = confusion_matrix(all_targets, all_preds)\n",
    "    labels = label_encoder.classes_ if label_encoder else np.unique(all_targets)\n",
    "    plt.figure(figsize=(10, 7))\n",
    "    sns.heatmap(cm, annot=True, fmt='d', cmap='Blues', xticklabels=labels, yticklabels=labels)\n",
    "    plt.xlabel(\"Predicted\")\n",
    "    plt.ylabel(\"Actual\")\n",
    "    plt.title(\"Confusion Matrix\")\n",
    "    plt.tight_layout()\n",
    "    plt.show()\n",
    "\n",
    "    # Optional: Save classification report\n",
    "#     report_df.to_csv(path)\n",
    "    print(f\"📄 Saved classification report to '{path}'\")\n",
    "\n",
    "    return report_df\n"
   ]
  }
 ],
 "metadata": {
  "kernelspec": {
   "display_name": ".venv",
   "language": "python",
   "name": "python3"
  },
  "language_info": {
   "codemirror_mode": {
    "name": "ipython",
    "version": 3
   },
   "file_extension": ".py",
   "mimetype": "text/x-python",
   "name": "python",
   "nbconvert_exporter": "python",
   "pygments_lexer": "ipython3",
   "version": "3.13.1"
  }
 },
 "nbformat": 4,
 "nbformat_minor": 5
}
